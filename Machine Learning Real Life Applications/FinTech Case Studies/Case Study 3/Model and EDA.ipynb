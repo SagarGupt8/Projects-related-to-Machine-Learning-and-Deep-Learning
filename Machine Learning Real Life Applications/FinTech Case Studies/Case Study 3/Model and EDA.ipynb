{
 "cells": [
  {
   "cell_type": "markdown",
   "metadata": {},
   "source": [
    "# CASE STUDY 3"
   ]
  },
  {
   "cell_type": "markdown",
   "metadata": {},
   "source": [
    "### Importing Libraries And Dataset:"
   ]
  },
  {
   "cell_type": "code",
   "execution_count": 3,
   "metadata": {},
   "outputs": [],
   "source": [
    "import pandas as pd\n",
    "import numpy as np\n",
    "import matplotlib.pyplot as plt\n",
    "import seaborn as sns\n",
    "from matplotlib import rcParams\n"
   ]
  },
  {
   "cell_type": "code",
   "execution_count": 4,
   "metadata": {},
   "outputs": [],
   "source": [
    "dataset = pd.read_csv('Financial_Data.csv')"
   ]
  },
  {
   "cell_type": "code",
   "execution_count": 5,
   "metadata": {},
   "outputs": [
    {
     "data": {
      "text/html": [
       "<div>\n",
       "<style scoped>\n",
       "    .dataframe tbody tr th:only-of-type {\n",
       "        vertical-align: middle;\n",
       "    }\n",
       "\n",
       "    .dataframe tbody tr th {\n",
       "        vertical-align: top;\n",
       "    }\n",
       "\n",
       "    .dataframe thead th {\n",
       "        text-align: right;\n",
       "    }\n",
       "</style>\n",
       "<table border=\"1\" class=\"dataframe\">\n",
       "  <thead>\n",
       "    <tr style=\"text-align: right;\">\n",
       "      <th></th>\n",
       "      <th>entry_id</th>\n",
       "      <th>age</th>\n",
       "      <th>pay_schedule</th>\n",
       "      <th>home_owner</th>\n",
       "      <th>income</th>\n",
       "      <th>months_employed</th>\n",
       "      <th>years_employed</th>\n",
       "      <th>current_address_year</th>\n",
       "      <th>personal_account_m</th>\n",
       "      <th>personal_account_y</th>\n",
       "      <th>...</th>\n",
       "      <th>amount_requested</th>\n",
       "      <th>risk_score</th>\n",
       "      <th>risk_score_2</th>\n",
       "      <th>risk_score_3</th>\n",
       "      <th>risk_score_4</th>\n",
       "      <th>risk_score_5</th>\n",
       "      <th>ext_quality_score</th>\n",
       "      <th>ext_quality_score_2</th>\n",
       "      <th>inquiries_last_month</th>\n",
       "      <th>e_signed</th>\n",
       "    </tr>\n",
       "  </thead>\n",
       "  <tbody>\n",
       "    <tr>\n",
       "      <th>0</th>\n",
       "      <td>7629673</td>\n",
       "      <td>40</td>\n",
       "      <td>bi-weekly</td>\n",
       "      <td>1</td>\n",
       "      <td>3135</td>\n",
       "      <td>0</td>\n",
       "      <td>3</td>\n",
       "      <td>3</td>\n",
       "      <td>6</td>\n",
       "      <td>2</td>\n",
       "      <td>...</td>\n",
       "      <td>550</td>\n",
       "      <td>36200</td>\n",
       "      <td>0.737398</td>\n",
       "      <td>0.903517</td>\n",
       "      <td>0.487712</td>\n",
       "      <td>0.515977</td>\n",
       "      <td>0.580918</td>\n",
       "      <td>0.380918</td>\n",
       "      <td>10</td>\n",
       "      <td>1</td>\n",
       "    </tr>\n",
       "    <tr>\n",
       "      <th>1</th>\n",
       "      <td>3560428</td>\n",
       "      <td>61</td>\n",
       "      <td>weekly</td>\n",
       "      <td>0</td>\n",
       "      <td>3180</td>\n",
       "      <td>0</td>\n",
       "      <td>6</td>\n",
       "      <td>3</td>\n",
       "      <td>2</td>\n",
       "      <td>7</td>\n",
       "      <td>...</td>\n",
       "      <td>600</td>\n",
       "      <td>30150</td>\n",
       "      <td>0.738510</td>\n",
       "      <td>0.881027</td>\n",
       "      <td>0.713423</td>\n",
       "      <td>0.826402</td>\n",
       "      <td>0.730720</td>\n",
       "      <td>0.630720</td>\n",
       "      <td>9</td>\n",
       "      <td>0</td>\n",
       "    </tr>\n",
       "    <tr>\n",
       "      <th>2</th>\n",
       "      <td>6934997</td>\n",
       "      <td>23</td>\n",
       "      <td>weekly</td>\n",
       "      <td>0</td>\n",
       "      <td>1540</td>\n",
       "      <td>6</td>\n",
       "      <td>0</td>\n",
       "      <td>0</td>\n",
       "      <td>7</td>\n",
       "      <td>1</td>\n",
       "      <td>...</td>\n",
       "      <td>450</td>\n",
       "      <td>34550</td>\n",
       "      <td>0.642993</td>\n",
       "      <td>0.766554</td>\n",
       "      <td>0.595018</td>\n",
       "      <td>0.762284</td>\n",
       "      <td>0.531712</td>\n",
       "      <td>0.531712</td>\n",
       "      <td>7</td>\n",
       "      <td>0</td>\n",
       "    </tr>\n",
       "    <tr>\n",
       "      <th>3</th>\n",
       "      <td>5682812</td>\n",
       "      <td>40</td>\n",
       "      <td>bi-weekly</td>\n",
       "      <td>0</td>\n",
       "      <td>5230</td>\n",
       "      <td>0</td>\n",
       "      <td>6</td>\n",
       "      <td>1</td>\n",
       "      <td>2</td>\n",
       "      <td>7</td>\n",
       "      <td>...</td>\n",
       "      <td>700</td>\n",
       "      <td>42150</td>\n",
       "      <td>0.665224</td>\n",
       "      <td>0.960832</td>\n",
       "      <td>0.767828</td>\n",
       "      <td>0.778831</td>\n",
       "      <td>0.792552</td>\n",
       "      <td>0.592552</td>\n",
       "      <td>8</td>\n",
       "      <td>1</td>\n",
       "    </tr>\n",
       "    <tr>\n",
       "      <th>4</th>\n",
       "      <td>5335819</td>\n",
       "      <td>33</td>\n",
       "      <td>semi-monthly</td>\n",
       "      <td>0</td>\n",
       "      <td>3590</td>\n",
       "      <td>0</td>\n",
       "      <td>5</td>\n",
       "      <td>2</td>\n",
       "      <td>2</td>\n",
       "      <td>8</td>\n",
       "      <td>...</td>\n",
       "      <td>1100</td>\n",
       "      <td>53850</td>\n",
       "      <td>0.617361</td>\n",
       "      <td>0.857560</td>\n",
       "      <td>0.613487</td>\n",
       "      <td>0.665523</td>\n",
       "      <td>0.744634</td>\n",
       "      <td>0.744634</td>\n",
       "      <td>12</td>\n",
       "      <td>0</td>\n",
       "    </tr>\n",
       "  </tbody>\n",
       "</table>\n",
       "<p>5 rows × 21 columns</p>\n",
       "</div>"
      ],
      "text/plain": [
       "   entry_id  age  pay_schedule  home_owner  income  months_employed  \\\n",
       "0   7629673   40     bi-weekly           1    3135                0   \n",
       "1   3560428   61        weekly           0    3180                0   \n",
       "2   6934997   23        weekly           0    1540                6   \n",
       "3   5682812   40     bi-weekly           0    5230                0   \n",
       "4   5335819   33  semi-monthly           0    3590                0   \n",
       "\n",
       "   years_employed  current_address_year  personal_account_m  \\\n",
       "0               3                     3                   6   \n",
       "1               6                     3                   2   \n",
       "2               0                     0                   7   \n",
       "3               6                     1                   2   \n",
       "4               5                     2                   2   \n",
       "\n",
       "   personal_account_y  ...  amount_requested  risk_score  risk_score_2  \\\n",
       "0                   2  ...               550       36200      0.737398   \n",
       "1                   7  ...               600       30150      0.738510   \n",
       "2                   1  ...               450       34550      0.642993   \n",
       "3                   7  ...               700       42150      0.665224   \n",
       "4                   8  ...              1100       53850      0.617361   \n",
       "\n",
       "   risk_score_3  risk_score_4  risk_score_5  ext_quality_score  \\\n",
       "0      0.903517      0.487712      0.515977           0.580918   \n",
       "1      0.881027      0.713423      0.826402           0.730720   \n",
       "2      0.766554      0.595018      0.762284           0.531712   \n",
       "3      0.960832      0.767828      0.778831           0.792552   \n",
       "4      0.857560      0.613487      0.665523           0.744634   \n",
       "\n",
       "   ext_quality_score_2  inquiries_last_month  e_signed  \n",
       "0             0.380918                    10         1  \n",
       "1             0.630720                     9         0  \n",
       "2             0.531712                     7         0  \n",
       "3             0.592552                     8         1  \n",
       "4             0.744634                    12         0  \n",
       "\n",
       "[5 rows x 21 columns]"
      ]
     },
     "execution_count": 5,
     "metadata": {},
     "output_type": "execute_result"
    }
   ],
   "source": [
    "dataset.head()"
   ]
  },
  {
   "cell_type": "code",
   "execution_count": 6,
   "metadata": {},
   "outputs": [
    {
     "data": {
      "text/plain": [
       "Index(['entry_id', 'age', 'pay_schedule', 'home_owner', 'income',\n",
       "       'months_employed', 'years_employed', 'current_address_year',\n",
       "       'personal_account_m', 'personal_account_y', 'has_debt',\n",
       "       'amount_requested', 'risk_score', 'risk_score_2', 'risk_score_3',\n",
       "       'risk_score_4', 'risk_score_5', 'ext_quality_score',\n",
       "       'ext_quality_score_2', 'inquiries_last_month', 'e_signed'],\n",
       "      dtype='object')"
      ]
     },
     "execution_count": 6,
     "metadata": {},
     "output_type": "execute_result"
    }
   ],
   "source": [
    "dataset.columns"
   ]
  },
  {
   "cell_type": "code",
   "execution_count": 7,
   "metadata": {},
   "outputs": [
    {
     "data": {
      "text/html": [
       "<div>\n",
       "<style scoped>\n",
       "    .dataframe tbody tr th:only-of-type {\n",
       "        vertical-align: middle;\n",
       "    }\n",
       "\n",
       "    .dataframe tbody tr th {\n",
       "        vertical-align: top;\n",
       "    }\n",
       "\n",
       "    .dataframe thead th {\n",
       "        text-align: right;\n",
       "    }\n",
       "</style>\n",
       "<table border=\"1\" class=\"dataframe\">\n",
       "  <thead>\n",
       "    <tr style=\"text-align: right;\">\n",
       "      <th></th>\n",
       "      <th>entry_id</th>\n",
       "      <th>age</th>\n",
       "      <th>home_owner</th>\n",
       "      <th>income</th>\n",
       "      <th>months_employed</th>\n",
       "      <th>years_employed</th>\n",
       "      <th>current_address_year</th>\n",
       "      <th>personal_account_m</th>\n",
       "      <th>personal_account_y</th>\n",
       "      <th>has_debt</th>\n",
       "      <th>amount_requested</th>\n",
       "      <th>risk_score</th>\n",
       "      <th>risk_score_2</th>\n",
       "      <th>risk_score_3</th>\n",
       "      <th>risk_score_4</th>\n",
       "      <th>risk_score_5</th>\n",
       "      <th>ext_quality_score</th>\n",
       "      <th>ext_quality_score_2</th>\n",
       "      <th>inquiries_last_month</th>\n",
       "      <th>e_signed</th>\n",
       "    </tr>\n",
       "  </thead>\n",
       "  <tbody>\n",
       "    <tr>\n",
       "      <th>count</th>\n",
       "      <td>1.790800e+04</td>\n",
       "      <td>17908.000000</td>\n",
       "      <td>17908.000000</td>\n",
       "      <td>17908.000000</td>\n",
       "      <td>17908.000000</td>\n",
       "      <td>17908.000000</td>\n",
       "      <td>17908.000000</td>\n",
       "      <td>17908.000000</td>\n",
       "      <td>17908.000000</td>\n",
       "      <td>17908.000000</td>\n",
       "      <td>17908.000000</td>\n",
       "      <td>17908.000000</td>\n",
       "      <td>17908.000000</td>\n",
       "      <td>17908.000000</td>\n",
       "      <td>17908.000000</td>\n",
       "      <td>17908.000000</td>\n",
       "      <td>17908.000000</td>\n",
       "      <td>17908.000000</td>\n",
       "      <td>17908.000000</td>\n",
       "      <td>17908.000000</td>\n",
       "    </tr>\n",
       "    <tr>\n",
       "      <th>mean</th>\n",
       "      <td>5.596978e+06</td>\n",
       "      <td>43.015412</td>\n",
       "      <td>0.425173</td>\n",
       "      <td>3657.214653</td>\n",
       "      <td>1.186006</td>\n",
       "      <td>3.526860</td>\n",
       "      <td>3.584711</td>\n",
       "      <td>3.427183</td>\n",
       "      <td>3.503350</td>\n",
       "      <td>0.795399</td>\n",
       "      <td>950.446449</td>\n",
       "      <td>61086.302211</td>\n",
       "      <td>0.690878</td>\n",
       "      <td>0.878276</td>\n",
       "      <td>0.583155</td>\n",
       "      <td>0.718252</td>\n",
       "      <td>0.623112</td>\n",
       "      <td>0.622068</td>\n",
       "      <td>6.457226</td>\n",
       "      <td>0.538251</td>\n",
       "    </tr>\n",
       "    <tr>\n",
       "      <th>std</th>\n",
       "      <td>2.562473e+06</td>\n",
       "      <td>11.873107</td>\n",
       "      <td>0.494383</td>\n",
       "      <td>1504.890063</td>\n",
       "      <td>2.400897</td>\n",
       "      <td>2.259732</td>\n",
       "      <td>2.751937</td>\n",
       "      <td>2.216440</td>\n",
       "      <td>1.955568</td>\n",
       "      <td>0.403421</td>\n",
       "      <td>698.543683</td>\n",
       "      <td>15394.255020</td>\n",
       "      <td>0.090470</td>\n",
       "      <td>0.054563</td>\n",
       "      <td>0.125061</td>\n",
       "      <td>0.120697</td>\n",
       "      <td>0.139729</td>\n",
       "      <td>0.139898</td>\n",
       "      <td>3.673093</td>\n",
       "      <td>0.498549</td>\n",
       "    </tr>\n",
       "    <tr>\n",
       "      <th>min</th>\n",
       "      <td>1.111398e+06</td>\n",
       "      <td>18.000000</td>\n",
       "      <td>0.000000</td>\n",
       "      <td>905.000000</td>\n",
       "      <td>0.000000</td>\n",
       "      <td>0.000000</td>\n",
       "      <td>0.000000</td>\n",
       "      <td>0.000000</td>\n",
       "      <td>0.000000</td>\n",
       "      <td>0.000000</td>\n",
       "      <td>350.000000</td>\n",
       "      <td>2100.000000</td>\n",
       "      <td>0.023258</td>\n",
       "      <td>0.451371</td>\n",
       "      <td>0.016724</td>\n",
       "      <td>0.153367</td>\n",
       "      <td>0.010184</td>\n",
       "      <td>0.006622</td>\n",
       "      <td>1.000000</td>\n",
       "      <td>0.000000</td>\n",
       "    </tr>\n",
       "    <tr>\n",
       "      <th>25%</th>\n",
       "      <td>3.378999e+06</td>\n",
       "      <td>34.000000</td>\n",
       "      <td>0.000000</td>\n",
       "      <td>2580.000000</td>\n",
       "      <td>0.000000</td>\n",
       "      <td>2.000000</td>\n",
       "      <td>2.000000</td>\n",
       "      <td>2.000000</td>\n",
       "      <td>2.000000</td>\n",
       "      <td>1.000000</td>\n",
       "      <td>600.000000</td>\n",
       "      <td>49350.000000</td>\n",
       "      <td>0.640993</td>\n",
       "      <td>0.850882</td>\n",
       "      <td>0.500208</td>\n",
       "      <td>0.633708</td>\n",
       "      <td>0.521735</td>\n",
       "      <td>0.519677</td>\n",
       "      <td>4.000000</td>\n",
       "      <td>0.000000</td>\n",
       "    </tr>\n",
       "    <tr>\n",
       "      <th>50%</th>\n",
       "      <td>5.608376e+06</td>\n",
       "      <td>42.000000</td>\n",
       "      <td>0.000000</td>\n",
       "      <td>3260.000000</td>\n",
       "      <td>0.000000</td>\n",
       "      <td>3.000000</td>\n",
       "      <td>3.000000</td>\n",
       "      <td>2.000000</td>\n",
       "      <td>3.000000</td>\n",
       "      <td>1.000000</td>\n",
       "      <td>700.000000</td>\n",
       "      <td>61200.000000</td>\n",
       "      <td>0.699561</td>\n",
       "      <td>0.881004</td>\n",
       "      <td>0.588208</td>\n",
       "      <td>0.725113</td>\n",
       "      <td>0.625944</td>\n",
       "      <td>0.622974</td>\n",
       "      <td>6.000000</td>\n",
       "      <td>1.000000</td>\n",
       "    </tr>\n",
       "    <tr>\n",
       "      <th>75%</th>\n",
       "      <td>7.805624e+06</td>\n",
       "      <td>51.000000</td>\n",
       "      <td>1.000000</td>\n",
       "      <td>4670.000000</td>\n",
       "      <td>1.000000</td>\n",
       "      <td>5.000000</td>\n",
       "      <td>5.000000</td>\n",
       "      <td>5.000000</td>\n",
       "      <td>4.000000</td>\n",
       "      <td>1.000000</td>\n",
       "      <td>1100.000000</td>\n",
       "      <td>72750.000000</td>\n",
       "      <td>0.752887</td>\n",
       "      <td>0.912608</td>\n",
       "      <td>0.672395</td>\n",
       "      <td>0.806681</td>\n",
       "      <td>0.729841</td>\n",
       "      <td>0.728940</td>\n",
       "      <td>8.000000</td>\n",
       "      <td>1.000000</td>\n",
       "    </tr>\n",
       "    <tr>\n",
       "      <th>max</th>\n",
       "      <td>9.999874e+06</td>\n",
       "      <td>96.000000</td>\n",
       "      <td>1.000000</td>\n",
       "      <td>9985.000000</td>\n",
       "      <td>11.000000</td>\n",
       "      <td>16.000000</td>\n",
       "      <td>12.000000</td>\n",
       "      <td>11.000000</td>\n",
       "      <td>15.000000</td>\n",
       "      <td>1.000000</td>\n",
       "      <td>10200.000000</td>\n",
       "      <td>99750.000000</td>\n",
       "      <td>0.999997</td>\n",
       "      <td>0.999024</td>\n",
       "      <td>0.978932</td>\n",
       "      <td>0.996260</td>\n",
       "      <td>0.970249</td>\n",
       "      <td>0.966953</td>\n",
       "      <td>30.000000</td>\n",
       "      <td>1.000000</td>\n",
       "    </tr>\n",
       "  </tbody>\n",
       "</table>\n",
       "</div>"
      ],
      "text/plain": [
       "           entry_id           age    home_owner        income  \\\n",
       "count  1.790800e+04  17908.000000  17908.000000  17908.000000   \n",
       "mean   5.596978e+06     43.015412      0.425173   3657.214653   \n",
       "std    2.562473e+06     11.873107      0.494383   1504.890063   \n",
       "min    1.111398e+06     18.000000      0.000000    905.000000   \n",
       "25%    3.378999e+06     34.000000      0.000000   2580.000000   \n",
       "50%    5.608376e+06     42.000000      0.000000   3260.000000   \n",
       "75%    7.805624e+06     51.000000      1.000000   4670.000000   \n",
       "max    9.999874e+06     96.000000      1.000000   9985.000000   \n",
       "\n",
       "       months_employed  years_employed  current_address_year  \\\n",
       "count     17908.000000    17908.000000          17908.000000   \n",
       "mean          1.186006        3.526860              3.584711   \n",
       "std           2.400897        2.259732              2.751937   \n",
       "min           0.000000        0.000000              0.000000   \n",
       "25%           0.000000        2.000000              2.000000   \n",
       "50%           0.000000        3.000000              3.000000   \n",
       "75%           1.000000        5.000000              5.000000   \n",
       "max          11.000000       16.000000             12.000000   \n",
       "\n",
       "       personal_account_m  personal_account_y      has_debt  amount_requested  \\\n",
       "count        17908.000000        17908.000000  17908.000000      17908.000000   \n",
       "mean             3.427183            3.503350      0.795399        950.446449   \n",
       "std              2.216440            1.955568      0.403421        698.543683   \n",
       "min              0.000000            0.000000      0.000000        350.000000   \n",
       "25%              2.000000            2.000000      1.000000        600.000000   \n",
       "50%              2.000000            3.000000      1.000000        700.000000   \n",
       "75%              5.000000            4.000000      1.000000       1100.000000   \n",
       "max             11.000000           15.000000      1.000000      10200.000000   \n",
       "\n",
       "         risk_score  risk_score_2  risk_score_3  risk_score_4  risk_score_5  \\\n",
       "count  17908.000000  17908.000000  17908.000000  17908.000000  17908.000000   \n",
       "mean   61086.302211      0.690878      0.878276      0.583155      0.718252   \n",
       "std    15394.255020      0.090470      0.054563      0.125061      0.120697   \n",
       "min     2100.000000      0.023258      0.451371      0.016724      0.153367   \n",
       "25%    49350.000000      0.640993      0.850882      0.500208      0.633708   \n",
       "50%    61200.000000      0.699561      0.881004      0.588208      0.725113   \n",
       "75%    72750.000000      0.752887      0.912608      0.672395      0.806681   \n",
       "max    99750.000000      0.999997      0.999024      0.978932      0.996260   \n",
       "\n",
       "       ext_quality_score  ext_quality_score_2  inquiries_last_month  \\\n",
       "count       17908.000000         17908.000000          17908.000000   \n",
       "mean            0.623112             0.622068              6.457226   \n",
       "std             0.139729             0.139898              3.673093   \n",
       "min             0.010184             0.006622              1.000000   \n",
       "25%             0.521735             0.519677              4.000000   \n",
       "50%             0.625944             0.622974              6.000000   \n",
       "75%             0.729841             0.728940              8.000000   \n",
       "max             0.970249             0.966953             30.000000   \n",
       "\n",
       "           e_signed  \n",
       "count  17908.000000  \n",
       "mean       0.538251  \n",
       "std        0.498549  \n",
       "min        0.000000  \n",
       "25%        0.000000  \n",
       "50%        1.000000  \n",
       "75%        1.000000  \n",
       "max        1.000000  "
      ]
     },
     "execution_count": 7,
     "metadata": {},
     "output_type": "execute_result"
    }
   ],
   "source": [
    "dataset.describe()"
   ]
  },
  {
   "cell_type": "code",
   "execution_count": 8,
   "metadata": {},
   "outputs": [
    {
     "name": "stdout",
     "output_type": "stream",
     "text": [
      "<class 'pandas.core.frame.DataFrame'>\n",
      "RangeIndex: 17908 entries, 0 to 17907\n",
      "Data columns (total 21 columns):\n",
      " #   Column                Non-Null Count  Dtype  \n",
      "---  ------                --------------  -----  \n",
      " 0   entry_id              17908 non-null  int64  \n",
      " 1   age                   17908 non-null  int64  \n",
      " 2   pay_schedule          17908 non-null  object \n",
      " 3   home_owner            17908 non-null  int64  \n",
      " 4   income                17908 non-null  int64  \n",
      " 5   months_employed       17908 non-null  int64  \n",
      " 6   years_employed        17908 non-null  int64  \n",
      " 7   current_address_year  17908 non-null  int64  \n",
      " 8   personal_account_m    17908 non-null  int64  \n",
      " 9   personal_account_y    17908 non-null  int64  \n",
      " 10  has_debt              17908 non-null  int64  \n",
      " 11  amount_requested      17908 non-null  int64  \n",
      " 12  risk_score            17908 non-null  int64  \n",
      " 13  risk_score_2          17908 non-null  float64\n",
      " 14  risk_score_3          17908 non-null  float64\n",
      " 15  risk_score_4          17908 non-null  float64\n",
      " 16  risk_score_5          17908 non-null  float64\n",
      " 17  ext_quality_score     17908 non-null  float64\n",
      " 18  ext_quality_score_2   17908 non-null  float64\n",
      " 19  inquiries_last_month  17908 non-null  int64  \n",
      " 20  e_signed              17908 non-null  int64  \n",
      "dtypes: float64(6), int64(14), object(1)\n",
      "memory usage: 2.9+ MB\n"
     ]
    }
   ],
   "source": [
    "dataset.info()"
   ]
  },
  {
   "cell_type": "code",
   "execution_count": 9,
   "metadata": {},
   "outputs": [
    {
     "data": {
      "text/plain": [
       "21"
      ]
     },
     "execution_count": 9,
     "metadata": {},
     "output_type": "execute_result"
    }
   ],
   "source": [
    "dataset.shape[1]"
   ]
  },
  {
   "cell_type": "markdown",
   "metadata": {},
   "source": [
    "### Data Visualization:"
   ]
  },
  {
   "cell_type": "code",
   "execution_count": 10,
   "metadata": {},
   "outputs": [
    {
     "data": {
      "image/png": "[encoded data removed]",
      "text/plain": [
       "<Figure size 1080x864 with 18 Axes>"
      ]
     },
     "metadata": {
      "needs_background": "light"
     },
     "output_type": "display_data"
    }
   ],
   "source": [
    "#Histogram\n",
    "\n",
    "dataset2 = dataset.drop(columns=['entry_id','pay_schedule','e_signed'])\n",
    "fig = plt.figure(figsize=(15,12))\n",
    "\n",
    "plt.suptitle('Histogram of Numeric Columns',fontsize=20)\n",
    "\n",
    "for i in range(dataset2.shape[1]):\n",
    "    plt.subplot(6,3,i+1)\n",
    "    f= plt.gca()\n",
    "    f.set_title(dataset2.columns.values[i])\n",
    "    vals = np.size(dataset2.iloc[:,i].unique())\n",
    "    if vals>=100:\n",
    "        vals=100\n",
    "    plt.hist(dataset2.iloc[:,i],bins=vals,color=\"#3F5D7D\")\n",
    "plt.tight_layout(rect=[0,0.05,1,0.95])"
   ]
  },
  {
   "cell_type": "code",
   "execution_count": 11,
   "metadata": {},
   "outputs": [
    {
     "data": {
      "text/plain": [
       "<matplotlib.axes._subplots.AxesSubplot at 0x1c6f3b4a6c8>"
      ]
     },
     "execution_count": 11,
     "metadata": {},
     "output_type": "execute_result"
    },
    {
     "data": {
      "image/png": "[encoded data removed]",
      "text/plain": [
       "<Figure size 1440x864 with 1 Axes>"
      ]
     },
     "metadata": {
      "needs_background": "light"
     },
     "output_type": "display_data"
    }
   ],
   "source": [
    "dataset2.corrwith(dataset.e_signed).plot.bar(figsize=(20,12),title=\"Correlation with E-signed\",fontsize=15,rot=50,grid=True)"
   ]
  },
  {
   "cell_type": "code",
   "execution_count": 12,
   "metadata": {},
   "outputs": [
    {
     "data": {
      "text/plain": [
       "<matplotlib.axes._subplots.AxesSubplot at 0x1c6f3bde748>"
      ]
     },
     "execution_count": 12,
     "metadata": {},
     "output_type": "execute_result"
    },
    {
     "data": {
      "image/png": "[encoded data removed]",
      "text/plain": [
       "<Figure size 1440x720 with 2 Axes>"
      ]
     },
     "metadata": {},
     "output_type": "display_data"
    }
   ],
   "source": [
    "#correlation matrix\n",
    "\n",
    "sns.set(style='white')\n",
    "corr = dataset2.corr()\n",
    "\n",
    "\n",
    "mask = np.zeros_like(corr,dtype=np.bool)\n",
    "mask[np.triu_indices_from(mask)]=True\n",
    "\n",
    "rcParams['figure.figsize']=(20,10)\n",
    "\n",
    "cmap=sns.diverging_palette(220,10,as_cmap=True)\n",
    "\n",
    "sns.heatmap(corr,mask=mask,cmap=cmap,vmax=.3,center=0,square=True,cbar_kws={'shrink':0.5},annot=True)"
   ]
  },
  {
   "cell_type": "markdown",
   "metadata": {},
   "source": [
    "### Feature Engineering and Data Cleaning:"
   ]
  },
  {
   "cell_type": "code",
   "execution_count": 13,
   "metadata": {},
   "outputs": [],
   "source": [
    "#feature engineering\n",
    "\n",
    "import random\n",
    "import time\n",
    "\n",
    "random.seed(100)\n",
    "\n"
   ]
  },
  {
   "cell_type": "code",
   "execution_count": 14,
   "metadata": {},
   "outputs": [],
   "source": [
    "dataset['personal_account_months'] = (dataset.personal_account_m + (dataset.personal_account_y*12))"
   ]
  },
  {
   "cell_type": "code",
   "execution_count": 15,
   "metadata": {},
   "outputs": [
    {
     "data": {
      "text/html": [
       "<div>\n",
       "<style scoped>\n",
       "    .dataframe tbody tr th:only-of-type {\n",
       "        vertical-align: middle;\n",
       "    }\n",
       "\n",
       "    .dataframe tbody tr th {\n",
       "        vertical-align: top;\n",
       "    }\n",
       "\n",
       "    .dataframe thead th {\n",
       "        text-align: right;\n",
       "    }\n",
       "</style>\n",
       "<table border=\"1\" class=\"dataframe\">\n",
       "  <thead>\n",
       "    <tr style=\"text-align: right;\">\n",
       "      <th></th>\n",
       "      <th>personal_account_m</th>\n",
       "      <th>personal_account_y</th>\n",
       "      <th>personal_account_months</th>\n",
       "    </tr>\n",
       "  </thead>\n",
       "  <tbody>\n",
       "    <tr>\n",
       "      <th>0</th>\n",
       "      <td>6</td>\n",
       "      <td>2</td>\n",
       "      <td>30</td>\n",
       "    </tr>\n",
       "    <tr>\n",
       "      <th>1</th>\n",
       "      <td>2</td>\n",
       "      <td>7</td>\n",
       "      <td>86</td>\n",
       "    </tr>\n",
       "    <tr>\n",
       "      <th>2</th>\n",
       "      <td>7</td>\n",
       "      <td>1</td>\n",
       "      <td>19</td>\n",
       "    </tr>\n",
       "    <tr>\n",
       "      <th>3</th>\n",
       "      <td>2</td>\n",
       "      <td>7</td>\n",
       "      <td>86</td>\n",
       "    </tr>\n",
       "    <tr>\n",
       "      <th>4</th>\n",
       "      <td>2</td>\n",
       "      <td>8</td>\n",
       "      <td>98</td>\n",
       "    </tr>\n",
       "  </tbody>\n",
       "</table>\n",
       "</div>"
      ],
      "text/plain": [
       "   personal_account_m  personal_account_y  personal_account_months\n",
       "0                   6                   2                       30\n",
       "1                   2                   7                       86\n",
       "2                   7                   1                       19\n",
       "3                   2                   7                       86\n",
       "4                   2                   8                       98"
      ]
     },
     "execution_count": 15,
     "metadata": {},
     "output_type": "execute_result"
    }
   ],
   "source": [
    "dataset[['personal_account_m','personal_account_y','personal_account_months']].head()"
   ]
  },
  {
   "cell_type": "code",
   "execution_count": 16,
   "metadata": {},
   "outputs": [
    {
     "data": {
      "text/html": [
       "<div>\n",
       "<style scoped>\n",
       "    .dataframe tbody tr th:only-of-type {\n",
       "        vertical-align: middle;\n",
       "    }\n",
       "\n",
       "    .dataframe tbody tr th {\n",
       "        vertical-align: top;\n",
       "    }\n",
       "\n",
       "    .dataframe thead th {\n",
       "        text-align: right;\n",
       "    }\n",
       "</style>\n",
       "<table border=\"1\" class=\"dataframe\">\n",
       "  <thead>\n",
       "    <tr style=\"text-align: right;\">\n",
       "      <th></th>\n",
       "      <th>entry_id</th>\n",
       "      <th>age</th>\n",
       "      <th>pay_schedule</th>\n",
       "      <th>home_owner</th>\n",
       "      <th>income</th>\n",
       "      <th>months_employed</th>\n",
       "      <th>years_employed</th>\n",
       "      <th>current_address_year</th>\n",
       "      <th>personal_account_m</th>\n",
       "      <th>personal_account_y</th>\n",
       "      <th>...</th>\n",
       "      <th>risk_score</th>\n",
       "      <th>risk_score_2</th>\n",
       "      <th>risk_score_3</th>\n",
       "      <th>risk_score_4</th>\n",
       "      <th>risk_score_5</th>\n",
       "      <th>ext_quality_score</th>\n",
       "      <th>ext_quality_score_2</th>\n",
       "      <th>inquiries_last_month</th>\n",
       "      <th>e_signed</th>\n",
       "      <th>personal_account_months</th>\n",
       "    </tr>\n",
       "  </thead>\n",
       "  <tbody>\n",
       "    <tr>\n",
       "      <th>0</th>\n",
       "      <td>7629673</td>\n",
       "      <td>40</td>\n",
       "      <td>bi-weekly</td>\n",
       "      <td>1</td>\n",
       "      <td>3135</td>\n",
       "      <td>0</td>\n",
       "      <td>3</td>\n",
       "      <td>3</td>\n",
       "      <td>6</td>\n",
       "      <td>2</td>\n",
       "      <td>...</td>\n",
       "      <td>36200</td>\n",
       "      <td>0.737398</td>\n",
       "      <td>0.903517</td>\n",
       "      <td>0.487712</td>\n",
       "      <td>0.515977</td>\n",
       "      <td>0.580918</td>\n",
       "      <td>0.380918</td>\n",
       "      <td>10</td>\n",
       "      <td>1</td>\n",
       "      <td>30</td>\n",
       "    </tr>\n",
       "    <tr>\n",
       "      <th>1</th>\n",
       "      <td>3560428</td>\n",
       "      <td>61</td>\n",
       "      <td>weekly</td>\n",
       "      <td>0</td>\n",
       "      <td>3180</td>\n",
       "      <td>0</td>\n",
       "      <td>6</td>\n",
       "      <td>3</td>\n",
       "      <td>2</td>\n",
       "      <td>7</td>\n",
       "      <td>...</td>\n",
       "      <td>30150</td>\n",
       "      <td>0.738510</td>\n",
       "      <td>0.881027</td>\n",
       "      <td>0.713423</td>\n",
       "      <td>0.826402</td>\n",
       "      <td>0.730720</td>\n",
       "      <td>0.630720</td>\n",
       "      <td>9</td>\n",
       "      <td>0</td>\n",
       "      <td>86</td>\n",
       "    </tr>\n",
       "    <tr>\n",
       "      <th>2</th>\n",
       "      <td>6934997</td>\n",
       "      <td>23</td>\n",
       "      <td>weekly</td>\n",
       "      <td>0</td>\n",
       "      <td>1540</td>\n",
       "      <td>6</td>\n",
       "      <td>0</td>\n",
       "      <td>0</td>\n",
       "      <td>7</td>\n",
       "      <td>1</td>\n",
       "      <td>...</td>\n",
       "      <td>34550</td>\n",
       "      <td>0.642993</td>\n",
       "      <td>0.766554</td>\n",
       "      <td>0.595018</td>\n",
       "      <td>0.762284</td>\n",
       "      <td>0.531712</td>\n",
       "      <td>0.531712</td>\n",
       "      <td>7</td>\n",
       "      <td>0</td>\n",
       "      <td>19</td>\n",
       "    </tr>\n",
       "    <tr>\n",
       "      <th>3</th>\n",
       "      <td>5682812</td>\n",
       "      <td>40</td>\n",
       "      <td>bi-weekly</td>\n",
       "      <td>0</td>\n",
       "      <td>5230</td>\n",
       "      <td>0</td>\n",
       "      <td>6</td>\n",
       "      <td>1</td>\n",
       "      <td>2</td>\n",
       "      <td>7</td>\n",
       "      <td>...</td>\n",
       "      <td>42150</td>\n",
       "      <td>0.665224</td>\n",
       "      <td>0.960832</td>\n",
       "      <td>0.767828</td>\n",
       "      <td>0.778831</td>\n",
       "      <td>0.792552</td>\n",
       "      <td>0.592552</td>\n",
       "      <td>8</td>\n",
       "      <td>1</td>\n",
       "      <td>86</td>\n",
       "    </tr>\n",
       "    <tr>\n",
       "      <th>4</th>\n",
       "      <td>5335819</td>\n",
       "      <td>33</td>\n",
       "      <td>semi-monthly</td>\n",
       "      <td>0</td>\n",
       "      <td>3590</td>\n",
       "      <td>0</td>\n",
       "      <td>5</td>\n",
       "      <td>2</td>\n",
       "      <td>2</td>\n",
       "      <td>8</td>\n",
       "      <td>...</td>\n",
       "      <td>53850</td>\n",
       "      <td>0.617361</td>\n",
       "      <td>0.857560</td>\n",
       "      <td>0.613487</td>\n",
       "      <td>0.665523</td>\n",
       "      <td>0.744634</td>\n",
       "      <td>0.744634</td>\n",
       "      <td>12</td>\n",
       "      <td>0</td>\n",
       "      <td>98</td>\n",
       "    </tr>\n",
       "  </tbody>\n",
       "</table>\n",
       "<p>5 rows × 22 columns</p>\n",
       "</div>"
      ],
      "text/plain": [
       "   entry_id  age  pay_schedule  home_owner  income  months_employed  \\\n",
       "0   7629673   40     bi-weekly           1    3135                0   \n",
       "1   3560428   61        weekly           0    3180                0   \n",
       "2   6934997   23        weekly           0    1540                6   \n",
       "3   5682812   40     bi-weekly           0    5230                0   \n",
       "4   5335819   33  semi-monthly           0    3590                0   \n",
       "\n",
       "   years_employed  current_address_year  personal_account_m  \\\n",
       "0               3                     3                   6   \n",
       "1               6                     3                   2   \n",
       "2               0                     0                   7   \n",
       "3               6                     1                   2   \n",
       "4               5                     2                   2   \n",
       "\n",
       "   personal_account_y  ...  risk_score  risk_score_2  risk_score_3  \\\n",
       "0                   2  ...       36200      0.737398      0.903517   \n",
       "1                   7  ...       30150      0.738510      0.881027   \n",
       "2                   1  ...       34550      0.642993      0.766554   \n",
       "3                   7  ...       42150      0.665224      0.960832   \n",
       "4                   8  ...       53850      0.617361      0.857560   \n",
       "\n",
       "   risk_score_4  risk_score_5  ext_quality_score  ext_quality_score_2  \\\n",
       "0      0.487712      0.515977           0.580918             0.380918   \n",
       "1      0.713423      0.826402           0.730720             0.630720   \n",
       "2      0.595018      0.762284           0.531712             0.531712   \n",
       "3      0.767828      0.778831           0.792552             0.592552   \n",
       "4      0.613487      0.665523           0.744634             0.744634   \n",
       "\n",
       "   inquiries_last_month  e_signed  personal_account_months  \n",
       "0                    10         1                       30  \n",
       "1                     9         0                       86  \n",
       "2                     7         0                       19  \n",
       "3                     8         1                       86  \n",
       "4                    12         0                       98  \n",
       "\n",
       "[5 rows x 22 columns]"
      ]
     },
     "execution_count": 16,
     "metadata": {},
     "output_type": "execute_result"
    }
   ],
   "source": [
    "dataset.head()"
   ]
  },
  {
   "cell_type": "code",
   "execution_count": 17,
   "metadata": {},
   "outputs": [
    {
     "name": "stdout",
     "output_type": "stream",
     "text": [
      "<class 'pandas.core.frame.DataFrame'>\n",
      "RangeIndex: 17908 entries, 0 to 17907\n",
      "Data columns (total 22 columns):\n",
      " #   Column                   Non-Null Count  Dtype  \n",
      "---  ------                   --------------  -----  \n",
      " 0   entry_id                 17908 non-null  int64  \n",
      " 1   age                      17908 non-null  int64  \n",
      " 2   pay_schedule             17908 non-null  object \n",
      " 3   home_owner               17908 non-null  int64  \n",
      " 4   income                   17908 non-null  int64  \n",
      " 5   months_employed          17908 non-null  int64  \n",
      " 6   years_employed           17908 non-null  int64  \n",
      " 7   current_address_year     17908 non-null  int64  \n",
      " 8   personal_account_m       17908 non-null  int64  \n",
      " 9   personal_account_y       17908 non-null  int64  \n",
      " 10  has_debt                 17908 non-null  int64  \n",
      " 11  amount_requested         17908 non-null  int64  \n",
      " 12  risk_score               17908 non-null  int64  \n",
      " 13  risk_score_2             17908 non-null  float64\n",
      " 14  risk_score_3             17908 non-null  float64\n",
      " 15  risk_score_4             17908 non-null  float64\n",
      " 16  risk_score_5             17908 non-null  float64\n",
      " 17  ext_quality_score        17908 non-null  float64\n",
      " 18  ext_quality_score_2      17908 non-null  float64\n",
      " 19  inquiries_last_month     17908 non-null  int64  \n",
      " 20  e_signed                 17908 non-null  int64  \n",
      " 21  personal_account_months  17908 non-null  int64  \n",
      "dtypes: float64(6), int64(15), object(1)\n",
      "memory usage: 3.0+ MB\n"
     ]
    }
   ],
   "source": [
    "dataset.info()"
   ]
  },
  {
   "cell_type": "code",
   "execution_count": 18,
   "metadata": {},
   "outputs": [],
   "source": [
    "dataset = dataset.drop(columns=['personal_account_y','personal_account_m','months_employed'])"
   ]
  },
  {
   "cell_type": "code",
   "execution_count": 19,
   "metadata": {},
   "outputs": [
    {
     "data": {
      "text/html": [
       "<div>\n",
       "<style scoped>\n",
       "    .dataframe tbody tr th:only-of-type {\n",
       "        vertical-align: middle;\n",
       "    }\n",
       "\n",
       "    .dataframe tbody tr th {\n",
       "        vertical-align: top;\n",
       "    }\n",
       "\n",
       "    .dataframe thead th {\n",
       "        text-align: right;\n",
       "    }\n",
       "</style>\n",
       "<table border=\"1\" class=\"dataframe\">\n",
       "  <thead>\n",
       "    <tr style=\"text-align: right;\">\n",
       "      <th></th>\n",
       "      <th>entry_id</th>\n",
       "      <th>age</th>\n",
       "      <th>pay_schedule</th>\n",
       "      <th>home_owner</th>\n",
       "      <th>income</th>\n",
       "      <th>years_employed</th>\n",
       "      <th>current_address_year</th>\n",
       "      <th>has_debt</th>\n",
       "      <th>amount_requested</th>\n",
       "      <th>risk_score</th>\n",
       "      <th>risk_score_2</th>\n",
       "      <th>risk_score_3</th>\n",
       "      <th>risk_score_4</th>\n",
       "      <th>risk_score_5</th>\n",
       "      <th>ext_quality_score</th>\n",
       "      <th>ext_quality_score_2</th>\n",
       "      <th>inquiries_last_month</th>\n",
       "      <th>e_signed</th>\n",
       "      <th>personal_account_months</th>\n",
       "    </tr>\n",
       "  </thead>\n",
       "  <tbody>\n",
       "    <tr>\n",
       "      <th>0</th>\n",
       "      <td>7629673</td>\n",
       "      <td>40</td>\n",
       "      <td>bi-weekly</td>\n",
       "      <td>1</td>\n",
       "      <td>3135</td>\n",
       "      <td>3</td>\n",
       "      <td>3</td>\n",
       "      <td>1</td>\n",
       "      <td>550</td>\n",
       "      <td>36200</td>\n",
       "      <td>0.737398</td>\n",
       "      <td>0.903517</td>\n",
       "      <td>0.487712</td>\n",
       "      <td>0.515977</td>\n",
       "      <td>0.580918</td>\n",
       "      <td>0.380918</td>\n",
       "      <td>10</td>\n",
       "      <td>1</td>\n",
       "      <td>30</td>\n",
       "    </tr>\n",
       "    <tr>\n",
       "      <th>1</th>\n",
       "      <td>3560428</td>\n",
       "      <td>61</td>\n",
       "      <td>weekly</td>\n",
       "      <td>0</td>\n",
       "      <td>3180</td>\n",
       "      <td>6</td>\n",
       "      <td>3</td>\n",
       "      <td>1</td>\n",
       "      <td>600</td>\n",
       "      <td>30150</td>\n",
       "      <td>0.738510</td>\n",
       "      <td>0.881027</td>\n",
       "      <td>0.713423</td>\n",
       "      <td>0.826402</td>\n",
       "      <td>0.730720</td>\n",
       "      <td>0.630720</td>\n",
       "      <td>9</td>\n",
       "      <td>0</td>\n",
       "      <td>86</td>\n",
       "    </tr>\n",
       "    <tr>\n",
       "      <th>2</th>\n",
       "      <td>6934997</td>\n",
       "      <td>23</td>\n",
       "      <td>weekly</td>\n",
       "      <td>0</td>\n",
       "      <td>1540</td>\n",
       "      <td>0</td>\n",
       "      <td>0</td>\n",
       "      <td>1</td>\n",
       "      <td>450</td>\n",
       "      <td>34550</td>\n",
       "      <td>0.642993</td>\n",
       "      <td>0.766554</td>\n",
       "      <td>0.595018</td>\n",
       "      <td>0.762284</td>\n",
       "      <td>0.531712</td>\n",
       "      <td>0.531712</td>\n",
       "      <td>7</td>\n",
       "      <td>0</td>\n",
       "      <td>19</td>\n",
       "    </tr>\n",
       "    <tr>\n",
       "      <th>3</th>\n",
       "      <td>5682812</td>\n",
       "      <td>40</td>\n",
       "      <td>bi-weekly</td>\n",
       "      <td>0</td>\n",
       "      <td>5230</td>\n",
       "      <td>6</td>\n",
       "      <td>1</td>\n",
       "      <td>1</td>\n",
       "      <td>700</td>\n",
       "      <td>42150</td>\n",
       "      <td>0.665224</td>\n",
       "      <td>0.960832</td>\n",
       "      <td>0.767828</td>\n",
       "      <td>0.778831</td>\n",
       "      <td>0.792552</td>\n",
       "      <td>0.592552</td>\n",
       "      <td>8</td>\n",
       "      <td>1</td>\n",
       "      <td>86</td>\n",
       "    </tr>\n",
       "    <tr>\n",
       "      <th>4</th>\n",
       "      <td>5335819</td>\n",
       "      <td>33</td>\n",
       "      <td>semi-monthly</td>\n",
       "      <td>0</td>\n",
       "      <td>3590</td>\n",
       "      <td>5</td>\n",
       "      <td>2</td>\n",
       "      <td>1</td>\n",
       "      <td>1100</td>\n",
       "      <td>53850</td>\n",
       "      <td>0.617361</td>\n",
       "      <td>0.857560</td>\n",
       "      <td>0.613487</td>\n",
       "      <td>0.665523</td>\n",
       "      <td>0.744634</td>\n",
       "      <td>0.744634</td>\n",
       "      <td>12</td>\n",
       "      <td>0</td>\n",
       "      <td>98</td>\n",
       "    </tr>\n",
       "  </tbody>\n",
       "</table>\n",
       "</div>"
      ],
      "text/plain": [
       "   entry_id  age  pay_schedule  home_owner  income  years_employed  \\\n",
       "0   7629673   40     bi-weekly           1    3135               3   \n",
       "1   3560428   61        weekly           0    3180               6   \n",
       "2   6934997   23        weekly           0    1540               0   \n",
       "3   5682812   40     bi-weekly           0    5230               6   \n",
       "4   5335819   33  semi-monthly           0    3590               5   \n",
       "\n",
       "   current_address_year  has_debt  amount_requested  risk_score  risk_score_2  \\\n",
       "0                     3         1               550       36200      0.737398   \n",
       "1                     3         1               600       30150      0.738510   \n",
       "2                     0         1               450       34550      0.642993   \n",
       "3                     1         1               700       42150      0.665224   \n",
       "4                     2         1              1100       53850      0.617361   \n",
       "\n",
       "   risk_score_3  risk_score_4  risk_score_5  ext_quality_score  \\\n",
       "0      0.903517      0.487712      0.515977           0.580918   \n",
       "1      0.881027      0.713423      0.826402           0.730720   \n",
       "2      0.766554      0.595018      0.762284           0.531712   \n",
       "3      0.960832      0.767828      0.778831           0.792552   \n",
       "4      0.857560      0.613487      0.665523           0.744634   \n",
       "\n",
       "   ext_quality_score_2  inquiries_last_month  e_signed  \\\n",
       "0             0.380918                    10         1   \n",
       "1             0.630720                     9         0   \n",
       "2             0.531712                     7         0   \n",
       "3             0.592552                     8         1   \n",
       "4             0.744634                    12         0   \n",
       "\n",
       "   personal_account_months  \n",
       "0                       30  \n",
       "1                       86  \n",
       "2                       19  \n",
       "3                       86  \n",
       "4                       98  "
      ]
     },
     "execution_count": 19,
     "metadata": {},
     "output_type": "execute_result"
    }
   ],
   "source": [
    "dataset.head()"
   ]
  },
  {
   "cell_type": "code",
   "execution_count": 20,
   "metadata": {},
   "outputs": [],
   "source": [
    "dataset= pd.get_dummies(dataset)"
   ]
  },
  {
   "cell_type": "code",
   "execution_count": 21,
   "metadata": {},
   "outputs": [
    {
     "data": {
      "text/plain": [
       "Index(['entry_id', 'age', 'home_owner', 'income', 'years_employed',\n",
       "       'current_address_year', 'has_debt', 'amount_requested', 'risk_score',\n",
       "       'risk_score_2', 'risk_score_3', 'risk_score_4', 'risk_score_5',\n",
       "       'ext_quality_score', 'ext_quality_score_2', 'inquiries_last_month',\n",
       "       'e_signed', 'personal_account_months', 'pay_schedule_bi-weekly',\n",
       "       'pay_schedule_monthly', 'pay_schedule_semi-monthly',\n",
       "       'pay_schedule_weekly'],\n",
       "      dtype='object')"
      ]
     },
     "execution_count": 21,
     "metadata": {},
     "output_type": "execute_result"
    }
   ],
   "source": [
    "dataset.columns"
   ]
  },
  {
   "cell_type": "code",
   "execution_count": 22,
   "metadata": {},
   "outputs": [],
   "source": [
    "dataset = dataset.drop(columns='pay_schedule_semi-monthly')"
   ]
  },
  {
   "cell_type": "code",
   "execution_count": 23,
   "metadata": {},
   "outputs": [],
   "source": [
    "response = dataset['e_signed']\n",
    "user_identifier = dataset['entry_id']"
   ]
  },
  {
   "cell_type": "code",
   "execution_count": 24,
   "metadata": {},
   "outputs": [],
   "source": [
    "dataset  =dataset.drop(columns=['entry_id','e_signed'])"
   ]
  },
  {
   "cell_type": "markdown",
   "metadata": {},
   "source": [
    "### Splitting the Data:"
   ]
  },
  {
   "cell_type": "code",
   "execution_count": 25,
   "metadata": {},
   "outputs": [],
   "source": [
    "#spliting the data\n",
    "\n",
    "from sklearn.model_selection import train_test_split\n",
    "X_train,X_test,y_train,y_test = train_test_split(dataset,response,test_size=0.2,random_state=0)"
   ]
  },
  {
   "cell_type": "markdown",
   "metadata": {},
   "source": [
    "### Feature Scaling:"
   ]
  },
  {
   "cell_type": "code",
   "execution_count": 26,
   "metadata": {},
   "outputs": [],
   "source": [
    "#feature scaling\n",
    "from sklearn.preprocessing import StandardScaler\n",
    "sc_X = StandardScaler()\n",
    "\n",
    "X_train2 = pd.DataFrame(sc_X.fit_transform(X_train))\n",
    "X_test2 = pd.DataFrame(sc_X.transform(X_test))\n",
    "\n",
    "X_train2.columns = X_train.columns.values\n",
    "X_test2.columns = X_test.columns.values\n",
    "\n",
    "X_train2.index = X_train.index.values\n",
    "X_test2.index = X_test.index.values\n",
    "\n",
    "X_train = X_train2\n",
    "X_test = X_test2\n",
    "\n"
   ]
  },
  {
   "cell_type": "markdown",
   "metadata": {},
   "source": [
    "### Modelling:"
   ]
  },
  {
   "cell_type": "code",
   "execution_count": 27,
   "metadata": {},
   "outputs": [
    {
     "data": {
      "text/plain": [
       "LogisticRegression(C=1.0, class_weight=None, dual=False, fit_intercept=True,\n",
       "                   intercept_scaling=1, l1_ratio=None, max_iter=100,\n",
       "                   multi_class='auto', n_jobs=None, penalty='l2',\n",
       "                   random_state=0, solver='lbfgs', tol=0.0001, verbose=0,\n",
       "                   warm_start=False)"
      ]
     },
     "execution_count": 27,
     "metadata": {},
     "output_type": "execute_result"
    }
   ],
   "source": [
    "from sklearn.linear_model import LogisticRegression\n",
    "classifier = LogisticRegression(random_state=0,penalty='l2')\n",
    "classifier.fit(X_train,y_train)"
   ]
  },
  {
   "cell_type": "code",
   "execution_count": 28,
   "metadata": {},
   "outputs": [],
   "source": [
    "y_pred = classifier.predict(X_test)\n"
   ]
  },
  {
   "cell_type": "code",
   "execution_count": 29,
   "metadata": {},
   "outputs": [
    {
     "data": {
      "text/html": [
       "<div>\n",
       "<style scoped>\n",
       "    .dataframe tbody tr th:only-of-type {\n",
       "        vertical-align: middle;\n",
       "    }\n",
       "\n",
       "    .dataframe tbody tr th {\n",
       "        vertical-align: top;\n",
       "    }\n",
       "\n",
       "    .dataframe thead th {\n",
       "        text-align: right;\n",
       "    }\n",
       "</style>\n",
       "<table border=\"1\" class=\"dataframe\">\n",
       "  <thead>\n",
       "    <tr style=\"text-align: right;\">\n",
       "      <th></th>\n",
       "      <th>Model</th>\n",
       "      <th>Accuracy</th>\n",
       "      <th>Recall</th>\n",
       "      <th>F1-score</th>\n",
       "    </tr>\n",
       "  </thead>\n",
       "  <tbody>\n",
       "    <tr>\n",
       "      <th>0</th>\n",
       "      <td>Linear Regression (lasso)</td>\n",
       "      <td>0.562535</td>\n",
       "      <td>0.706432</td>\n",
       "      <td>0.634817</td>\n",
       "    </tr>\n",
       "  </tbody>\n",
       "</table>\n",
       "</div>"
      ],
      "text/plain": [
       "                       Model  Accuracy    Recall  F1-score\n",
       "0  Linear Regression (lasso)  0.562535  0.706432  0.634817"
      ]
     },
     "execution_count": 29,
     "metadata": {},
     "output_type": "execute_result"
    }
   ],
   "source": [
    "from sklearn.metrics import confusion_matrix,accuracy_score,recall_score,f1_score\n",
    "cm = confusion_matrix(y_test,y_pred)\n",
    "acc= accuracy_score(y_test,y_pred)\n",
    "rec = recall_score(y_test,y_pred)\n",
    "f1= f1_score(y_test,y_pred)\n",
    "\n",
    "results = pd.DataFrame([['Linear Regression (lasso)',acc,rec,f1]],columns=['Model','Accuracy','Recall','F1-score'])\n",
    "results"
   ]
  },
  {
   "cell_type": "code",
   "execution_count": 30,
   "metadata": {},
   "outputs": [
    {
     "data": {
      "text/plain": [
       "SVC(C=1.0, break_ties=False, cache_size=200, class_weight=None, coef0=0.0,\n",
       "    decision_function_shape='ovr', degree=3, gamma='scale', kernel='linear',\n",
       "    max_iter=-1, probability=False, random_state=0, shrinking=True, tol=0.001,\n",
       "    verbose=False)"
      ]
     },
     "execution_count": 30,
     "metadata": {},
     "output_type": "execute_result"
    }
   ],
   "source": [
    "from sklearn.svm import SVC\n",
    "classifier = SVC(random_state=0,kernel='linear')\n",
    "classifier.fit(X_train,y_train)"
   ]
  },
  {
   "cell_type": "code",
   "execution_count": 31,
   "metadata": {},
   "outputs": [],
   "source": [
    "y_pred1 = classifier.predict(X_test)"
   ]
  },
  {
   "cell_type": "code",
   "execution_count": 32,
   "metadata": {},
   "outputs": [],
   "source": [
    "from sklearn.metrics import confusion_matrix,accuracy_score,recall_score,f1_score\n",
    "cm = confusion_matrix(y_test,y_pred1)\n",
    "acc= accuracy_score(y_test,y_pred1)\n",
    "rec = recall_score(y_test,y_pred1)\n",
    "f1= f1_score(y_test,y_pred1)\n",
    "\n",
    "model_results = pd.DataFrame([['SVC (linear)',acc,rec,f1]],columns=['Model','Accuracy','Recall','F1-score'],index=['1'])\n",
    "results = results.append(model_results)\n"
   ]
  },
  {
   "cell_type": "code",
   "execution_count": 33,
   "metadata": {},
   "outputs": [
    {
     "data": {
      "text/html": [
       "<div>\n",
       "<style scoped>\n",
       "    .dataframe tbody tr th:only-of-type {\n",
       "        vertical-align: middle;\n",
       "    }\n",
       "\n",
       "    .dataframe tbody tr th {\n",
       "        vertical-align: top;\n",
       "    }\n",
       "\n",
       "    .dataframe thead th {\n",
       "        text-align: right;\n",
       "    }\n",
       "</style>\n",
       "<table border=\"1\" class=\"dataframe\">\n",
       "  <thead>\n",
       "    <tr style=\"text-align: right;\">\n",
       "      <th></th>\n",
       "      <th>Model</th>\n",
       "      <th>Accuracy</th>\n",
       "      <th>Recall</th>\n",
       "      <th>F1-score</th>\n",
       "    </tr>\n",
       "  </thead>\n",
       "  <tbody>\n",
       "    <tr>\n",
       "      <th>0</th>\n",
       "      <td>Linear Regression (lasso)</td>\n",
       "      <td>0.562535</td>\n",
       "      <td>0.706432</td>\n",
       "      <td>0.634817</td>\n",
       "    </tr>\n",
       "    <tr>\n",
       "      <th>1</th>\n",
       "      <td>SVC (linear)</td>\n",
       "      <td>0.568398</td>\n",
       "      <td>0.735996</td>\n",
       "      <td>0.647354</td>\n",
       "    </tr>\n",
       "  </tbody>\n",
       "</table>\n",
       "</div>"
      ],
      "text/plain": [
       "                       Model  Accuracy    Recall  F1-score\n",
       "0  Linear Regression (lasso)  0.562535  0.706432  0.634817\n",
       "1               SVC (linear)  0.568398  0.735996  0.647354"
      ]
     },
     "execution_count": 33,
     "metadata": {},
     "output_type": "execute_result"
    }
   ],
   "source": [
    "results"
   ]
  },
  {
   "cell_type": "code",
   "execution_count": 34,
   "metadata": {},
   "outputs": [
    {
     "data": {
      "text/plain": [
       "SVC(C=1.0, break_ties=False, cache_size=200, class_weight=None, coef0=0.0,\n",
       "    decision_function_shape='ovr', degree=3, gamma='scale', kernel='rbf',\n",
       "    max_iter=-1, probability=False, random_state=0, shrinking=True, tol=0.001,\n",
       "    verbose=False)"
      ]
     },
     "execution_count": 34,
     "metadata": {},
     "output_type": "execute_result"
    }
   ],
   "source": [
    "from sklearn.svm import SVC\n",
    "classifier = SVC(random_state=0,kernel='rbf')\n",
    "classifier.fit(X_train,y_train)"
   ]
  },
  {
   "cell_type": "code",
   "execution_count": 35,
   "metadata": {},
   "outputs": [],
   "source": [
    "y_pred2 = classifier.predict(X_test)"
   ]
  },
  {
   "cell_type": "code",
   "execution_count": 36,
   "metadata": {},
   "outputs": [],
   "source": [
    "from sklearn.metrics import confusion_matrix,accuracy_score,recall_score,f1_score\n",
    "cm = confusion_matrix(y_test,y_pred2)\n",
    "acc= accuracy_score(y_test,y_pred2)\n",
    "rec = recall_score(y_test,y_pred2)\n",
    "f1= f1_score(y_test,y_pred2)\n",
    "\n",
    "model_results1 = pd.DataFrame([['SVC (rbf)',acc,rec,f1]],columns=['Model','Accuracy','Recall','F1-score'],index=['2'])\n",
    "results = results.append(model_results1)"
   ]
  },
  {
   "cell_type": "code",
   "execution_count": 37,
   "metadata": {},
   "outputs": [
    {
     "data": {
      "text/html": [
       "<div>\n",
       "<style scoped>\n",
       "    .dataframe tbody tr th:only-of-type {\n",
       "        vertical-align: middle;\n",
       "    }\n",
       "\n",
       "    .dataframe tbody tr th {\n",
       "        vertical-align: top;\n",
       "    }\n",
       "\n",
       "    .dataframe thead th {\n",
       "        text-align: right;\n",
       "    }\n",
       "</style>\n",
       "<table border=\"1\" class=\"dataframe\">\n",
       "  <thead>\n",
       "    <tr style=\"text-align: right;\">\n",
       "      <th></th>\n",
       "      <th>Model</th>\n",
       "      <th>Accuracy</th>\n",
       "      <th>Recall</th>\n",
       "      <th>F1-score</th>\n",
       "    </tr>\n",
       "  </thead>\n",
       "  <tbody>\n",
       "    <tr>\n",
       "      <th>0</th>\n",
       "      <td>Linear Regression (lasso)</td>\n",
       "      <td>0.562535</td>\n",
       "      <td>0.706432</td>\n",
       "      <td>0.634817</td>\n",
       "    </tr>\n",
       "    <tr>\n",
       "      <th>1</th>\n",
       "      <td>SVC (linear)</td>\n",
       "      <td>0.568398</td>\n",
       "      <td>0.735996</td>\n",
       "      <td>0.647354</td>\n",
       "    </tr>\n",
       "    <tr>\n",
       "      <th>2</th>\n",
       "      <td>SVC (rbf)</td>\n",
       "      <td>0.591569</td>\n",
       "      <td>0.690871</td>\n",
       "      <td>0.645505</td>\n",
       "    </tr>\n",
       "  </tbody>\n",
       "</table>\n",
       "</div>"
      ],
      "text/plain": [
       "                       Model  Accuracy    Recall  F1-score\n",
       "0  Linear Regression (lasso)  0.562535  0.706432  0.634817\n",
       "1               SVC (linear)  0.568398  0.735996  0.647354\n",
       "2                  SVC (rbf)  0.591569  0.690871  0.645505"
      ]
     },
     "execution_count": 37,
     "metadata": {},
     "output_type": "execute_result"
    }
   ],
   "source": [
    "results"
   ]
  },
  {
   "cell_type": "code",
   "execution_count": 38,
   "metadata": {},
   "outputs": [
    {
     "data": {
      "text/plain": [
       "RandomForestClassifier(bootstrap=True, ccp_alpha=0.0, class_weight=None,\n",
       "                       criterion='entropy', max_depth=None, max_features='auto',\n",
       "                       max_leaf_nodes=None, max_samples=None,\n",
       "                       min_impurity_decrease=0.0, min_impurity_split=None,\n",
       "                       min_samples_leaf=1, min_samples_split=2,\n",
       "                       min_weight_fraction_leaf=0.0, n_estimators=75,\n",
       "                       n_jobs=None, oob_score=False, random_state=0, verbose=0,\n",
       "                       warm_start=False)"
      ]
     },
     "execution_count": 38,
     "metadata": {},
     "output_type": "execute_result"
    }
   ],
   "source": [
    "from sklearn.ensemble import RandomForestClassifier\n",
    "classifier = RandomForestClassifier(n_estimators=75,random_state=0,criterion='entropy')\n",
    "classifier.fit(X_train,y_train)\n"
   ]
  },
  {
   "cell_type": "code",
   "execution_count": 39,
   "metadata": {},
   "outputs": [],
   "source": [
    "y_pred3 = classifier.predict(X_test)"
   ]
  },
  {
   "cell_type": "code",
   "execution_count": 40,
   "metadata": {},
   "outputs": [],
   "source": [
    "from sklearn.metrics import confusion_matrix,accuracy_score,recall_score,f1_score\n",
    "cm = confusion_matrix(y_test,y_pred3)\n",
    "acc= accuracy_score(y_test,y_pred3)\n",
    "rec = recall_score(y_test,y_pred3)\n",
    "f1= f1_score(y_test,y_pred3)\n",
    "\n",
    "model_results2 = pd.DataFrame([['Random Forest Classifier',acc,rec,f1]],columns=['Model','Accuracy','Recall','F1-score'],index=['3'])\n",
    "results = results.append(model_results2)"
   ]
  },
  {
   "cell_type": "code",
   "execution_count": 41,
   "metadata": {},
   "outputs": [
    {
     "data": {
      "text/html": [
       "<div>\n",
       "<style scoped>\n",
       "    .dataframe tbody tr th:only-of-type {\n",
       "        vertical-align: middle;\n",
       "    }\n",
       "\n",
       "    .dataframe tbody tr th {\n",
       "        vertical-align: top;\n",
       "    }\n",
       "\n",
       "    .dataframe thead th {\n",
       "        text-align: right;\n",
       "    }\n",
       "</style>\n",
       "<table border=\"1\" class=\"dataframe\">\n",
       "  <thead>\n",
       "    <tr style=\"text-align: right;\">\n",
       "      <th></th>\n",
       "      <th>Model</th>\n",
       "      <th>Accuracy</th>\n",
       "      <th>Recall</th>\n",
       "      <th>F1-score</th>\n",
       "    </tr>\n",
       "  </thead>\n",
       "  <tbody>\n",
       "    <tr>\n",
       "      <th>0</th>\n",
       "      <td>Linear Regression (lasso)</td>\n",
       "      <td>0.562535</td>\n",
       "      <td>0.706432</td>\n",
       "      <td>0.634817</td>\n",
       "    </tr>\n",
       "    <tr>\n",
       "      <th>1</th>\n",
       "      <td>SVC (linear)</td>\n",
       "      <td>0.568398</td>\n",
       "      <td>0.735996</td>\n",
       "      <td>0.647354</td>\n",
       "    </tr>\n",
       "    <tr>\n",
       "      <th>2</th>\n",
       "      <td>SVC (rbf)</td>\n",
       "      <td>0.591569</td>\n",
       "      <td>0.690871</td>\n",
       "      <td>0.645505</td>\n",
       "    </tr>\n",
       "    <tr>\n",
       "      <th>3</th>\n",
       "      <td>Random Forest Classifier</td>\n",
       "      <td>0.623674</td>\n",
       "      <td>0.695539</td>\n",
       "      <td>0.665509</td>\n",
       "    </tr>\n",
       "  </tbody>\n",
       "</table>\n",
       "</div>"
      ],
      "text/plain": [
       "                       Model  Accuracy    Recall  F1-score\n",
       "0  Linear Regression (lasso)  0.562535  0.706432  0.634817\n",
       "1               SVC (linear)  0.568398  0.735996  0.647354\n",
       "2                  SVC (rbf)  0.591569  0.690871  0.645505\n",
       "3   Random Forest Classifier  0.623674  0.695539  0.665509"
      ]
     },
     "execution_count": 41,
     "metadata": {},
     "output_type": "execute_result"
    }
   ],
   "source": [
    "results"
   ]
  },
  {
   "cell_type": "markdown",
   "metadata": {},
   "source": [
    "### K-Fold Cross Validation:"
   ]
  },
  {
   "cell_type": "code",
   "execution_count": 42,
   "metadata": {},
   "outputs": [
    {
     "name": "stdout",
     "output_type": "stream",
     "text": [
      "Random Forest Classifier Accuracy: 62.75 %\n",
      "Random Forest Classifier std deviation: 1.34 %\n"
     ]
    }
   ],
   "source": [
    "# k fold validation\n",
    "from sklearn.model_selection import cross_val_score\n",
    "accuracies = cross_val_score(estimator = classifier,X = X_train,y=y_train,cv=10)\n",
    "print('Random Forest Classifier Accuracy: {:0.2f} %'.format(accuracies.mean()*100))\n",
    "print('Random Forest Classifier std deviation: {:0.2f} %'.format(accuracies.std()*100))"
   ]
  },
  {
   "cell_type": "markdown",
   "metadata": {},
   "source": [
    "### Parameter Tuning:"
   ]
  },
  {
   "cell_type": "code",
   "execution_count": 43,
   "metadata": {},
   "outputs": [],
   "source": [
    "#parameter tuning \n",
    "\n",
    "\n",
    "#round1\n",
    "parameters = {'max_depth':[3,None],\n",
    "             'max_features':[1,5,10],\n",
    "             'min_samples_split':[2,5,10],\n",
    "             'min_samples_leaf':[1,5,10],\n",
    "             'bootstrap':[True,False],\n",
    "             'criterion':['entropy']}\n",
    "from sklearn.model_selection import GridSearchCV\n",
    "grid_search = GridSearchCV(estimator=classifier,param_grid=parameters,\n",
    "                          scoring='accuracy',\n",
    "                          cv=10)"
   ]
  },
  {
   "cell_type": "code",
   "execution_count": 44,
   "metadata": {},
   "outputs": [],
   "source": [
    "# It is taking time as i don't have a good setup of machine, it is taking more than 20 minutes to perform GridSearch so i have'nt predict using GridSearch\n",
    "###t0 =time.time()\n",
    "####grid_search = grid_search.fit(X_train,y_train)\n",
    "####t1 = time.time()\n",
    "####print(\"took %0.2f seconds\"% (t1-t0))"
   ]
  },
  {
   "cell_type": "code",
   "execution_count": null,
   "metadata": {},
   "outputs": [],
   "source": []
  }
 ],
 "metadata": {
  "kernelspec": {
   "display_name": "Python 3",
   "language": "python",
   "name": "python3"
  },
  "language_info": {
   "codemirror_mode": {
    "name": "ipython",
    "version": 3
   },
   "file_extension": ".py",
   "mimetype": "text/x-python",
   "name": "python",
   "nbconvert_exporter": "python",
   "pygments_lexer": "ipython3",
   "version": "3.7.6"
  }
 },
 "nbformat": 4,
 "nbformat_minor": 4
}
