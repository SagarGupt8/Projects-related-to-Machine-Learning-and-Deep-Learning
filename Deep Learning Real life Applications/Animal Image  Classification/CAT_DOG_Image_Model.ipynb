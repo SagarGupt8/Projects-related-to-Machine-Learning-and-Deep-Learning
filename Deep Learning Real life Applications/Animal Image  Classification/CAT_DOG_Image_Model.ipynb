{
 "cells": [
  {
   "cell_type": "markdown",
   "metadata": {},
   "source": [
    "# Cat And Dog Image Classification"
   ]
  },
  {
   "cell_type": "code",
   "execution_count": 1,
   "metadata": {},
   "outputs": [],
   "source": [
    "import tensorflow as tf\n",
    "from keras.preprocessing.image import ImageDataGenerator"
   ]
  },
  {
   "cell_type": "code",
   "execution_count": 2,
   "metadata": {},
   "outputs": [
    {
     "data": {
      "text/plain": [
       "'C:\\\\Users\\\\91870'"
      ]
     },
     "execution_count": 2,
     "metadata": {},
     "output_type": "execute_result"
    }
   ],
   "source": [
    "pwd"
   ]
  },
  {
   "cell_type": "code",
   "execution_count": 3,
   "metadata": {},
   "outputs": [
    {
     "data": {
      "text/plain": [
       "'2.3.0'"
      ]
     },
     "execution_count": 3,
     "metadata": {},
     "output_type": "execute_result"
    }
   ],
   "source": [
    "tf.__version__"
   ]
  },
  {
   "cell_type": "code",
   "execution_count": 4,
   "metadata": {},
   "outputs": [
    {
     "name": "stdout",
     "output_type": "stream",
     "text": [
      "Found 8000 images belonging to 2 classes.\n"
     ]
    }
   ],
   "source": [
    "train_datagen= ImageDataGenerator(rescale=1/255,shear_range=0.2,zoom_range=0.2,horizontal_flip=True)\n",
    "training_set= train_datagen.flow_from_directory('C:\\\\Users\\\\91870\\\\Desktop\\\\convolution\\\\dataset\\\\training_set',target_size=(64,64),batch_size=32,class_mode='binary')"
   ]
  },
  {
   "cell_type": "code",
   "execution_count": 5,
   "metadata": {},
   "outputs": [
    {
     "name": "stdout",
     "output_type": "stream",
     "text": [
      "Found 2000 images belonging to 2 classes.\n"
     ]
    }
   ],
   "source": [
    "test_datagen = ImageDataGenerator(rescale=1/255)\n",
    "test_set = test_datagen.flow_from_directory('C:\\\\Users\\\\91870\\\\Desktop\\\\convolution\\\\dataset\\\\test_set',target_size=(64,64),batch_size=32,class_mode='binary')\n"
   ]
  },
  {
   "cell_type": "code",
   "execution_count": 6,
   "metadata": {},
   "outputs": [],
   "source": [
    "cnn = tf.keras.models.Sequential()"
   ]
  },
  {
   "cell_type": "code",
   "execution_count": 7,
   "metadata": {},
   "outputs": [],
   "source": [
    "cnn.add(tf.keras.layers.Conv2D(filters=32, kernel_size=3, activation='relu', input_shape=[64, 64, 3]))"
   ]
  },
  {
   "cell_type": "code",
   "execution_count": 8,
   "metadata": {},
   "outputs": [],
   "source": [
    "cnn.add(tf.keras.layers.MaxPool2D(pool_size=2, strides=2))"
   ]
  },
  {
   "cell_type": "code",
   "execution_count": 9,
   "metadata": {},
   "outputs": [],
   "source": [
    "cnn.add(tf.keras.layers.Conv2D(filters=32, kernel_size=3, activation='relu', input_shape=[64, 64, 3]))"
   ]
  },
  {
   "cell_type": "code",
   "execution_count": 10,
   "metadata": {},
   "outputs": [],
   "source": [
    "cnn.add(tf.keras.layers.MaxPool2D(pool_size=2, strides=2))"
   ]
  },
  {
   "cell_type": "code",
   "execution_count": 11,
   "metadata": {},
   "outputs": [],
   "source": [
    "cnn.add(tf.keras.layers.Flatten())"
   ]
  },
  {
   "cell_type": "code",
   "execution_count": 12,
   "metadata": {},
   "outputs": [],
   "source": [
    "cnn.add(tf.keras.layers.Dense(units=128, activation='relu'))"
   ]
  },
  {
   "cell_type": "code",
   "execution_count": 13,
   "metadata": {},
   "outputs": [],
   "source": [
    "cnn.add(tf.keras.layers.Dense(units=1, activation='sigmoid'))"
   ]
  },
  {
   "cell_type": "code",
   "execution_count": 14,
   "metadata": {},
   "outputs": [],
   "source": [
    "cnn.compile(optimizer='adam',loss='binary_crossentropy',metrics=['accuracy'])"
   ]
  },
  {
   "cell_type": "code",
   "execution_count": 15,
   "metadata": {},
   "outputs": [
    {
     "name": "stdout",
     "output_type": "stream",
     "text": [
      "Epoch 1/15\n",
      "250/250 [==============================] - 89s 355ms/step - loss: 0.6518 - accuracy: 0.6121 - val_loss: 0.6020 - val_accuracy: 0.6825\n",
      "Epoch 2/15\n",
      "250/250 [==============================] - 86s 343ms/step - loss: 0.5807 - accuracy: 0.6975 - val_loss: 0.5639 - val_accuracy: 0.7105\n",
      "Epoch 3/15\n",
      "250/250 [==============================] - 82s 329ms/step - loss: 0.5401 - accuracy: 0.7266 - val_loss: 0.5859 - val_accuracy: 0.6885\n",
      "Epoch 4/15\n",
      "250/250 [==============================] - 78s 313ms/step - loss: 0.5172 - accuracy: 0.7405 - val_loss: 0.5200 - val_accuracy: 0.7440\n",
      "Epoch 5/15\n",
      "250/250 [==============================] - 80s 322ms/step - loss: 0.4945 - accuracy: 0.7545 - val_loss: 0.4961 - val_accuracy: 0.7610\n",
      "Epoch 6/15\n",
      "250/250 [==============================] - 82s 329ms/step - loss: 0.4848 - accuracy: 0.7629 - val_loss: 0.4920 - val_accuracy: 0.7630\n",
      "Epoch 7/15\n",
      "250/250 [==============================] - 82s 327ms/step - loss: 0.4620 - accuracy: 0.7830 - val_loss: 0.4746 - val_accuracy: 0.7815\n",
      "Epoch 8/15\n",
      "250/250 [==============================] - 81s 323ms/step - loss: 0.4435 - accuracy: 0.7903 - val_loss: 0.4659 - val_accuracy: 0.7865\n",
      "Epoch 9/15\n",
      "250/250 [==============================] - 80s 321ms/step - loss: 0.4347 - accuracy: 0.7943 - val_loss: 0.4898 - val_accuracy: 0.7795\n",
      "Epoch 10/15\n",
      "250/250 [==============================] - 81s 326ms/step - loss: 0.4183 - accuracy: 0.8099 - val_loss: 0.5185 - val_accuracy: 0.7495\n",
      "Epoch 11/15\n",
      "250/250 [==============================] - 81s 323ms/step - loss: 0.4072 - accuracy: 0.8096 - val_loss: 0.4822 - val_accuracy: 0.7825\n",
      "Epoch 12/15\n",
      "250/250 [==============================] - 81s 323ms/step - loss: 0.3960 - accuracy: 0.8170 - val_loss: 0.4614 - val_accuracy: 0.7925\n",
      "Epoch 13/15\n",
      "250/250 [==============================] - 81s 323ms/step - loss: 0.3911 - accuracy: 0.8227 - val_loss: 0.4764 - val_accuracy: 0.7775\n",
      "Epoch 14/15\n",
      "250/250 [==============================] - 81s 323ms/step - loss: 0.3690 - accuracy: 0.8344 - val_loss: 0.4610 - val_accuracy: 0.8050\n",
      "Epoch 15/15\n",
      "250/250 [==============================] - 81s 323ms/step - loss: 0.3612 - accuracy: 0.8378 - val_loss: 0.4582 - val_accuracy: 0.7930\n"
     ]
    },
    {
     "data": {
      "text/plain": [
       "<tensorflow.python.keras.callbacks.History at 0x1e1ee72b808>"
      ]
     },
     "execution_count": 15,
     "metadata": {},
     "output_type": "execute_result"
    }
   ],
   "source": [
    "cnn.fit(x=training_set,validation_data=test_set,epochs=15)"
   ]
  },
  {
   "cell_type": "code",
   "execution_count": 16,
   "metadata": {},
   "outputs": [],
   "source": [
    "import numpy as np\n",
    "from keras.preprocessing import image\n",
    "test_image = image.load_img('C:\\\\Users\\\\91870\\\\Desktop\\\\convolution\\\\dataset\\\\single_prediction\\\\catt.jpeg',target_size=(64,64))\n",
    "test_image = image.img_to_array(test_image)\n",
    "test_image = np.expand_dims(test_image, axis = 0)\n",
    "result = cnn.predict(test_image)\n",
    "training_set.class_indices\n",
    "if result[0][0] == 1:\n",
    "  prediction = 'dog'\n",
    "else:\n",
    "  prediction = 'cat'"
   ]
  },
  {
   "cell_type": "code",
   "execution_count": 17,
   "metadata": {},
   "outputs": [
    {
     "data": {
      "text/plain": [
       "{'cats': 0, 'dogs': 1}"
      ]
     },
     "execution_count": 17,
     "metadata": {},
     "output_type": "execute_result"
    }
   ],
   "source": [
    "training_set.class_indices"
   ]
  },
  {
   "cell_type": "code",
   "execution_count": 18,
   "metadata": {},
   "outputs": [
    {
     "name": "stdout",
     "output_type": "stream",
     "text": [
      "cat\n"
     ]
    }
   ],
   "source": [
    "print(prediction)"
   ]
  },
  {
   "cell_type": "code",
   "execution_count": null,
   "metadata": {},
   "outputs": [],
   "source": []
  }
 ],
 "metadata": {
  "kernelspec": {
   "display_name": "Python 3",
   "language": "python",
   "name": "python3"
  },
  "language_info": {
   "codemirror_mode": {
    "name": "ipython",
    "version": 3
   },
   "file_extension": ".py",
   "mimetype": "text/x-python",
   "name": "python",
   "nbconvert_exporter": "python",
   "pygments_lexer": "ipython3",
   "version": "3.7.6"
  }
 },
 "nbformat": 4,
 "nbformat_minor": 4
}
